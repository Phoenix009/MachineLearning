{
 "cells": [
  {
   "cell_type": "code",
   "execution_count": 74,
   "metadata": {},
   "outputs": [],
   "source": [
    "import pandas as pd\n",
    "import numpy as np\n",
    "import keras"
   ]
  },
  {
   "cell_type": "code",
   "execution_count": 31,
   "metadata": {},
   "outputs": [],
   "source": [
    "df = pd.read_csv(\"Churn_Modelling.csv\")"
   ]
  },
  {
   "cell_type": "code",
   "execution_count": 32,
   "metadata": {},
   "outputs": [
    {
     "data": {
      "text/html": [
       "<div>\n",
       "<style scoped>\n",
       "    .dataframe tbody tr th:only-of-type {\n",
       "        vertical-align: middle;\n",
       "    }\n",
       "\n",
       "    .dataframe tbody tr th {\n",
       "        vertical-align: top;\n",
       "    }\n",
       "\n",
       "    .dataframe thead th {\n",
       "        text-align: right;\n",
       "    }\n",
       "</style>\n",
       "<table border=\"1\" class=\"dataframe\">\n",
       "  <thead>\n",
       "    <tr style=\"text-align: right;\">\n",
       "      <th></th>\n",
       "      <th>RowNumber</th>\n",
       "      <th>CustomerId</th>\n",
       "      <th>Surname</th>\n",
       "      <th>CreditScore</th>\n",
       "      <th>Geography</th>\n",
       "      <th>Gender</th>\n",
       "      <th>Age</th>\n",
       "      <th>Tenure</th>\n",
       "      <th>Balance</th>\n",
       "      <th>NumOfProducts</th>\n",
       "      <th>HasCrCard</th>\n",
       "      <th>IsActiveMember</th>\n",
       "      <th>EstimatedSalary</th>\n",
       "      <th>Exited</th>\n",
       "    </tr>\n",
       "  </thead>\n",
       "  <tbody>\n",
       "    <tr>\n",
       "      <th>0</th>\n",
       "      <td>1</td>\n",
       "      <td>15634602</td>\n",
       "      <td>Hargrave</td>\n",
       "      <td>619</td>\n",
       "      <td>France</td>\n",
       "      <td>Female</td>\n",
       "      <td>42</td>\n",
       "      <td>2</td>\n",
       "      <td>0.00</td>\n",
       "      <td>1</td>\n",
       "      <td>1</td>\n",
       "      <td>1</td>\n",
       "      <td>101348.88</td>\n",
       "      <td>1</td>\n",
       "    </tr>\n",
       "    <tr>\n",
       "      <th>1</th>\n",
       "      <td>2</td>\n",
       "      <td>15647311</td>\n",
       "      <td>Hill</td>\n",
       "      <td>608</td>\n",
       "      <td>Spain</td>\n",
       "      <td>Female</td>\n",
       "      <td>41</td>\n",
       "      <td>1</td>\n",
       "      <td>83807.86</td>\n",
       "      <td>1</td>\n",
       "      <td>0</td>\n",
       "      <td>1</td>\n",
       "      <td>112542.58</td>\n",
       "      <td>0</td>\n",
       "    </tr>\n",
       "    <tr>\n",
       "      <th>2</th>\n",
       "      <td>3</td>\n",
       "      <td>15619304</td>\n",
       "      <td>Onio</td>\n",
       "      <td>502</td>\n",
       "      <td>France</td>\n",
       "      <td>Female</td>\n",
       "      <td>42</td>\n",
       "      <td>8</td>\n",
       "      <td>159660.80</td>\n",
       "      <td>3</td>\n",
       "      <td>1</td>\n",
       "      <td>0</td>\n",
       "      <td>113931.57</td>\n",
       "      <td>1</td>\n",
       "    </tr>\n",
       "    <tr>\n",
       "      <th>3</th>\n",
       "      <td>4</td>\n",
       "      <td>15701354</td>\n",
       "      <td>Boni</td>\n",
       "      <td>699</td>\n",
       "      <td>France</td>\n",
       "      <td>Female</td>\n",
       "      <td>39</td>\n",
       "      <td>1</td>\n",
       "      <td>0.00</td>\n",
       "      <td>2</td>\n",
       "      <td>0</td>\n",
       "      <td>0</td>\n",
       "      <td>93826.63</td>\n",
       "      <td>0</td>\n",
       "    </tr>\n",
       "    <tr>\n",
       "      <th>4</th>\n",
       "      <td>5</td>\n",
       "      <td>15737888</td>\n",
       "      <td>Mitchell</td>\n",
       "      <td>850</td>\n",
       "      <td>Spain</td>\n",
       "      <td>Female</td>\n",
       "      <td>43</td>\n",
       "      <td>2</td>\n",
       "      <td>125510.82</td>\n",
       "      <td>1</td>\n",
       "      <td>1</td>\n",
       "      <td>1</td>\n",
       "      <td>79084.10</td>\n",
       "      <td>0</td>\n",
       "    </tr>\n",
       "  </tbody>\n",
       "</table>\n",
       "</div>"
      ],
      "text/plain": [
       "   RowNumber  CustomerId   Surname  CreditScore Geography  Gender  Age  \\\n",
       "0          1    15634602  Hargrave          619    France  Female   42   \n",
       "1          2    15647311      Hill          608     Spain  Female   41   \n",
       "2          3    15619304      Onio          502    France  Female   42   \n",
       "3          4    15701354      Boni          699    France  Female   39   \n",
       "4          5    15737888  Mitchell          850     Spain  Female   43   \n",
       "\n",
       "   Tenure    Balance  NumOfProducts  HasCrCard  IsActiveMember  \\\n",
       "0       2       0.00              1          1               1   \n",
       "1       1   83807.86              1          0               1   \n",
       "2       8  159660.80              3          1               0   \n",
       "3       1       0.00              2          0               0   \n",
       "4       2  125510.82              1          1               1   \n",
       "\n",
       "   EstimatedSalary  Exited  \n",
       "0        101348.88       1  \n",
       "1        112542.58       0  \n",
       "2        113931.57       1  \n",
       "3         93826.63       0  \n",
       "4         79084.10       0  "
      ]
     },
     "execution_count": 32,
     "metadata": {},
     "output_type": "execute_result"
    }
   ],
   "source": [
    "df.head()"
   ]
  },
  {
   "cell_type": "markdown",
   "metadata": {},
   "source": [
    "### Data Pre Processing"
   ]
  },
  {
   "cell_type": "code",
   "execution_count": 50,
   "metadata": {},
   "outputs": [],
   "source": [
    "X = df.iloc[:, 3:-1].values\n",
    "y = df.iloc[:, -1].values"
   ]
  },
  {
   "cell_type": "code",
   "execution_count": 51,
   "metadata": {
    "collapsed": true
   },
   "outputs": [
    {
     "data": {
      "text/plain": [
       "array([[619, 'France', 'Female', 42, 2, 0.0, 1, 1, 1, 101348.88],\n",
       "       [608, 'Spain', 'Female', 41, 1, 83807.86, 1, 0, 1, 112542.58],\n",
       "       [502, 'France', 'Female', 42, 8, 159660.8, 3, 1, 0, 113931.57],\n",
       "       [699, 'France', 'Female', 39, 1, 0.0, 2, 0, 0, 93826.63],\n",
       "       [850, 'Spain', 'Female', 43, 2, 125510.82, 1, 1, 1, 79084.1]],\n",
       "      dtype=object)"
      ]
     },
     "execution_count": 51,
     "metadata": {},
     "output_type": "execute_result"
    }
   ],
   "source": [
    "X[:5]"
   ]
  },
  {
   "cell_type": "code",
   "execution_count": 52,
   "metadata": {},
   "outputs": [
    {
     "data": {
      "text/plain": [
       "(10000, 10)"
      ]
     },
     "execution_count": 52,
     "metadata": {},
     "output_type": "execute_result"
    }
   ],
   "source": [
    "X.shape"
   ]
  },
  {
   "cell_type": "code",
   "execution_count": 53,
   "metadata": {},
   "outputs": [],
   "source": [
    "from sklearn.compose import ColumnTransformer\n",
    "from sklearn.preprocessing import OneHotEncoder"
   ]
  },
  {
   "cell_type": "code",
   "execution_count": 54,
   "metadata": {},
   "outputs": [],
   "source": [
    "ct = ColumnTransformer([(\"encoder\", OneHotEncoder(), [1, 2])], remainder = \"passthrough\")"
   ]
  },
  {
   "cell_type": "code",
   "execution_count": 55,
   "metadata": {},
   "outputs": [],
   "source": [
    "X = ct.fit_transform(X)"
   ]
  },
  {
   "cell_type": "code",
   "execution_count": 56,
   "metadata": {},
   "outputs": [
    {
     "data": {
      "text/plain": [
       "(10000, 13)"
      ]
     },
     "execution_count": 56,
     "metadata": {},
     "output_type": "execute_result"
    }
   ],
   "source": [
    "X.shape"
   ]
  },
  {
   "cell_type": "code",
   "execution_count": 57,
   "metadata": {
    "collapsed": true
   },
   "outputs": [
    {
     "data": {
      "text/plain": [
       "array([[1.0, 0.0, 0.0, 1.0, 0.0, 619, 42, 2, 0.0, 1, 1, 1, 101348.88],\n",
       "       [0.0, 0.0, 1.0, 1.0, 0.0, 608, 41, 1, 83807.86, 1, 0, 1,\n",
       "        112542.58],\n",
       "       [1.0, 0.0, 0.0, 1.0, 0.0, 502, 42, 8, 159660.8, 3, 1, 0,\n",
       "        113931.57],\n",
       "       [1.0, 0.0, 0.0, 1.0, 0.0, 699, 39, 1, 0.0, 2, 0, 0, 93826.63],\n",
       "       [0.0, 0.0, 1.0, 1.0, 0.0, 850, 43, 2, 125510.82, 1, 1, 1, 79084.1]],\n",
       "      dtype=object)"
      ]
     },
     "execution_count": 57,
     "metadata": {},
     "output_type": "execute_result"
    }
   ],
   "source": [
    "X[:5]"
   ]
  },
  {
   "cell_type": "code",
   "execution_count": 58,
   "metadata": {},
   "outputs": [],
   "source": [
    "from sklearn.model_selection import train_test_split"
   ]
  },
  {
   "cell_type": "code",
   "execution_count": 67,
   "metadata": {},
   "outputs": [],
   "source": [
    "X= X[:, 1:] # to remove the dummy variable trap"
   ]
  },
  {
   "cell_type": "code",
   "execution_count": 60,
   "metadata": {},
   "outputs": [
    {
     "data": {
      "text/plain": [
       "(10000, 12)"
      ]
     },
     "execution_count": 60,
     "metadata": {},
     "output_type": "execute_result"
    }
   ],
   "source": [
    "X.shape"
   ]
  },
  {
   "cell_type": "code",
   "execution_count": 64,
   "metadata": {},
   "outputs": [],
   "source": [
    "X_train, X_test, y_train, y_test = train_test_split(X, y, test_size = 0.2, random_state = 0)"
   ]
  },
  {
   "cell_type": "code",
   "execution_count": 65,
   "metadata": {},
   "outputs": [
    {
     "data": {
      "text/plain": [
       "(8000, 12)"
      ]
     },
     "execution_count": 65,
     "metadata": {},
     "output_type": "execute_result"
    }
   ],
   "source": [
    "X_train.shape"
   ]
  },
  {
   "cell_type": "code",
   "execution_count": 66,
   "metadata": {},
   "outputs": [
    {
     "data": {
      "text/plain": [
       "(8000,)"
      ]
     },
     "execution_count": 66,
     "metadata": {},
     "output_type": "execute_result"
    }
   ],
   "source": [
    "y_train.shape"
   ]
  },
  {
   "cell_type": "code",
   "execution_count": 68,
   "metadata": {},
   "outputs": [],
   "source": [
    "from sklearn.preprocessing import StandardScaler"
   ]
  },
  {
   "cell_type": "code",
   "execution_count": 69,
   "metadata": {},
   "outputs": [],
   "source": [
    "sc = StandardScaler() "
   ]
  },
  {
   "cell_type": "code",
   "execution_count": 70,
   "metadata": {
    "collapsed": true
   },
   "outputs": [
    {
     "name": "stderr",
     "output_type": "stream",
     "text": [
      "C:\\Users\\jaide\\Anaconda3\\envs\\MLAI\\lib\\site-packages\\sklearn\\utils\\validation.py:590: DataConversionWarning: Data with input dtype object was converted to float64 by StandardScaler.\n",
      "  warnings.warn(msg, DataConversionWarning)\n",
      "C:\\Users\\jaide\\Anaconda3\\envs\\MLAI\\lib\\site-packages\\sklearn\\utils\\validation.py:590: DataConversionWarning: Data with input dtype object was converted to float64 by StandardScaler.\n",
      "  warnings.warn(msg, DataConversionWarning)\n"
     ]
    }
   ],
   "source": [
    "X_train = sc.fit_transform(X_train)"
   ]
  },
  {
   "cell_type": "code",
   "execution_count": 71,
   "metadata": {
    "collapsed": true
   },
   "outputs": [
    {
     "name": "stderr",
     "output_type": "stream",
     "text": [
      "C:\\Users\\jaide\\Anaconda3\\envs\\MLAI\\lib\\site-packages\\sklearn\\utils\\validation.py:590: DataConversionWarning: Data with input dtype object was converted to float64 by StandardScaler.\n",
      "  warnings.warn(msg, DataConversionWarning)\n"
     ]
    }
   ],
   "source": [
    "X_test = sc.transform(X_test)"
   ]
  },
  {
   "cell_type": "code",
   "execution_count": 73,
   "metadata": {
    "collapsed": true
   },
   "outputs": [
    {
     "data": {
      "text/plain": [
       "array([[-0.5698444 ,  1.74309049,  1.09168714, -1.09168714,  0.16958176,\n",
       "        -0.46460796,  0.00666099, -1.21571749,  0.8095029 ,  0.64259497,\n",
       "        -1.03227043,  1.10643166],\n",
       "       [ 1.75486502, -0.57369368, -0.91601335,  0.91601335, -2.30455945,\n",
       "         0.30102557, -1.37744033, -0.00631193, -0.92159124,  0.64259497,\n",
       "         0.9687384 , -0.74866447],\n",
       "       [-0.5698444 , -0.57369368,  1.09168714, -1.09168714, -1.19119591,\n",
       "        -0.94312892, -1.031415  ,  0.57993469, -0.92159124,  0.64259497,\n",
       "        -1.03227043,  1.48533467],\n",
       "       [-0.5698444 ,  1.74309049, -0.91601335,  0.91601335,  0.03556578,\n",
       "         0.10961719,  0.00666099,  0.47312769, -0.92159124,  0.64259497,\n",
       "        -1.03227043,  1.27652776],\n",
       "       [-0.5698444 ,  1.74309049,  1.09168714, -1.09168714,  2.05611444,\n",
       "         1.73658844,  1.04473698,  0.8101927 ,  0.8095029 ,  0.64259497,\n",
       "         0.9687384 ,  0.55837842]])"
      ]
     },
     "execution_count": 73,
     "metadata": {},
     "output_type": "execute_result"
    }
   ],
   "source": [
    "X_train[:5]"
   ]
  },
  {
   "cell_type": "markdown",
   "metadata": {},
   "source": [
    "### Making the ANN Model"
   ]
  },
  {
   "cell_type": "code",
   "execution_count": 88,
   "metadata": {},
   "outputs": [],
   "source": [
    "from keras.models import Sequential\n",
    "from keras.layers import Dense"
   ]
  },
  {
   "cell_type": "code",
   "execution_count": 95,
   "metadata": {},
   "outputs": [],
   "source": [
    "model = Sequential()"
   ]
  },
  {
   "cell_type": "code",
   "execution_count": 96,
   "metadata": {},
   "outputs": [],
   "source": [
    "model.add(Dense(100, input_dim = 12, activation = \"relu\"))"
   ]
  },
  {
   "cell_type": "code",
   "execution_count": 97,
   "metadata": {},
   "outputs": [],
   "source": [
    "model.add(Dense(500, activation = \"relu\"))"
   ]
  },
  {
   "cell_type": "code",
   "execution_count": 98,
   "metadata": {},
   "outputs": [],
   "source": [
    "model.add(Dense(1, activation = \"sigmoid\"))"
   ]
  },
  {
   "cell_type": "code",
   "execution_count": 99,
   "metadata": {},
   "outputs": [
    {
     "data": {
      "text/plain": [
       "'Adam is the stochastic gradient descent optimizer\\nthat will be used to update the weights'"
      ]
     },
     "execution_count": 99,
     "metadata": {},
     "output_type": "execute_result"
    }
   ],
   "source": [
    "model.compile(optimizer = \"adam\", loss = \"binary_crossentropy\", metrics = [\"accuracy\"])\n",
    "\"\"\"Adam is the stochastic gradient descent optimizer\n",
    "that will be used to update the weights\"\"\""
   ]
  },
  {
   "cell_type": "code",
   "execution_count": 100,
   "metadata": {},
   "outputs": [
    {
     "name": "stdout",
     "output_type": "stream",
     "text": [
      "Epoch 1/50\n",
      "8000/8000 [==============================] - 6s 787us/step - loss: 0.3947 - acc: 0.8375\n",
      "Epoch 2/50\n",
      "8000/8000 [==============================] - 5s 567us/step - loss: 0.3539 - acc: 0.8535\n",
      "Epoch 3/50\n",
      "8000/8000 [==============================] - 4s 546us/step - loss: 0.3435 - acc: 0.8586\n",
      "Epoch 4/50\n",
      "8000/8000 [==============================] - 4s 528us/step - loss: 0.3377 - acc: 0.8611\n",
      "Epoch 5/50\n",
      "8000/8000 [==============================] - 4s 521us/step - loss: 0.3317 - acc: 0.8632\n",
      "Epoch 6/50\n",
      "8000/8000 [==============================] - 4s 499us/step - loss: 0.3284 - acc: 0.8670\n",
      "Epoch 7/50\n",
      "8000/8000 [==============================] - 4s 540us/step - loss: 0.3240 - acc: 0.8656\n",
      "Epoch 8/50\n",
      "8000/8000 [==============================] - 4s 520us/step - loss: 0.3205 - acc: 0.8691\n",
      "Epoch 9/50\n",
      "8000/8000 [==============================] - 4s 540us/step - loss: 0.3176 - acc: 0.8697\n",
      "Epoch 10/50\n",
      "8000/8000 [==============================] - 4s 550us/step - loss: 0.3140 - acc: 0.8700\n",
      "Epoch 11/50\n",
      "8000/8000 [==============================] - 4s 535us/step - loss: 0.3106 - acc: 0.8719\n",
      "Epoch 12/50\n",
      "8000/8000 [==============================] - 4s 517us/step - loss: 0.3045 - acc: 0.8739\n",
      "Epoch 13/50\n",
      "8000/8000 [==============================] - 4s 510us/step - loss: 0.2993 - acc: 0.8740\n",
      "Epoch 14/50\n",
      "8000/8000 [==============================] - 4s 522us/step - loss: 0.2979 - acc: 0.8765\n",
      "Epoch 15/50\n",
      "8000/8000 [==============================] - 4s 498us/step - loss: 0.2917 - acc: 0.8772\n",
      "Epoch 16/50\n",
      "8000/8000 [==============================] - 4s 504us/step - loss: 0.2862 - acc: 0.8851\n",
      "Epoch 17/50\n",
      "8000/8000 [==============================] - 4s 513us/step - loss: 0.2806 - acc: 0.8839\n",
      "Epoch 18/50\n",
      "8000/8000 [==============================] - 4s 503us/step - loss: 0.2763 - acc: 0.8830\n",
      "Epoch 19/50\n",
      "8000/8000 [==============================] - 5s 616us/step - loss: 0.2726 - acc: 0.8881\n",
      "Epoch 20/50\n",
      "8000/8000 [==============================] - 6s 690us/step - loss: 0.2647 - acc: 0.8885\n",
      "Epoch 21/50\n",
      "8000/8000 [==============================] - 6s 739us/step - loss: 0.2607 - acc: 0.8889\n",
      "Epoch 22/50\n",
      "8000/8000 [==============================] - 4s 558us/step - loss: 0.2576 - acc: 0.8889\n",
      "Epoch 23/50\n",
      "8000/8000 [==============================] - 4s 510us/step - loss: 0.2508 - acc: 0.8931\n",
      "Epoch 24/50\n",
      "8000/8000 [==============================] - 4s 504us/step - loss: 0.2438 - acc: 0.8975\n",
      "Epoch 25/50\n",
      "8000/8000 [==============================] - 4s 513us/step - loss: 0.2408 - acc: 0.8962\n",
      "Epoch 26/50\n",
      "8000/8000 [==============================] - 4s 503us/step - loss: 0.2338 - acc: 0.9007\n",
      "Epoch 27/50\n",
      "8000/8000 [==============================] - 4s 504us/step - loss: 0.2276 - acc: 0.9025\n",
      "Epoch 28/50\n",
      "8000/8000 [==============================] - 5s 570us/step - loss: 0.2237 - acc: 0.9039\n",
      "Epoch 29/50\n",
      "8000/8000 [==============================] - 5s 608us/step - loss: 0.2162 - acc: 0.9074\n",
      "Epoch 30/50\n",
      "8000/8000 [==============================] - 5s 673us/step - loss: 0.2106 - acc: 0.9095\n",
      "Epoch 31/50\n",
      "8000/8000 [==============================] - 6s 740us/step - loss: 0.2051 - acc: 0.9122\n",
      "Epoch 32/50\n",
      "8000/8000 [==============================] - 6s 749us/step - loss: 0.1993 - acc: 0.9146\n",
      "Epoch 33/50\n",
      "8000/8000 [==============================] - 6s 701us/step - loss: 0.1945 - acc: 0.9180\n",
      "Epoch 34/50\n",
      "8000/8000 [==============================] - 4s 553us/step - loss: 0.1872 - acc: 0.9195\n",
      "Epoch 35/50\n",
      "8000/8000 [==============================] - 5s 594us/step - loss: 0.1836 - acc: 0.9196\n",
      "Epoch 36/50\n",
      "8000/8000 [==============================] - 5s 599us/step - loss: 0.1780 - acc: 0.9247\n",
      "Epoch 37/50\n",
      "8000/8000 [==============================] - 4s 540us/step - loss: 0.1705 - acc: 0.9274\n",
      "Epoch 38/50\n",
      "8000/8000 [==============================] - 5s 578us/step - loss: 0.1670 - acc: 0.9274\n",
      "Epoch 39/50\n",
      "8000/8000 [==============================] - 4s 553us/step - loss: 0.1609 - acc: 0.9315\n",
      "Epoch 40/50\n",
      "8000/8000 [==============================] - 5s 645us/step - loss: 0.1581 - acc: 0.9337\n",
      "Epoch 41/50\n",
      "8000/8000 [==============================] - 5s 604us/step - loss: 0.1546 - acc: 0.9330\n",
      "Epoch 42/50\n",
      "8000/8000 [==============================] - 5s 597us/step - loss: 0.1438 - acc: 0.9411\n",
      "Epoch 43/50\n",
      "8000/8000 [==============================] - 5s 584us/step - loss: 0.1433 - acc: 0.9399\n",
      "Epoch 44/50\n",
      "8000/8000 [==============================] - 5s 626us/step - loss: 0.1358 - acc: 0.9436\n",
      "Epoch 45/50\n",
      "8000/8000 [==============================] - 5s 626us/step - loss: 0.1353 - acc: 0.9432\n",
      "Epoch 46/50\n",
      "8000/8000 [==============================] - 4s 559us/step - loss: 0.1283 - acc: 0.9464\n",
      "Epoch 47/50\n",
      "8000/8000 [==============================] - 4s 553us/step - loss: 0.1218 - acc: 0.9472\n",
      "Epoch 48/50\n",
      "8000/8000 [==============================] - 4s 510us/step - loss: 0.1211 - acc: 0.9492\n",
      "Epoch 49/50\n",
      "8000/8000 [==============================] - 4s 514us/step - loss: 0.1140 - acc: 0.9524\n",
      "Epoch 50/50\n",
      "8000/8000 [==============================] - 4s 551us/step - loss: 0.1157 - acc: 0.9500\n"
     ]
    },
    {
     "data": {
      "text/plain": [
       "<keras.callbacks.History at 0x24e3b4f2278>"
      ]
     },
     "execution_count": 100,
     "metadata": {},
     "output_type": "execute_result"
    }
   ],
   "source": [
    "model.fit(X_train, y_train, batch_size = 10, epochs = 50)"
   ]
  },
  {
   "cell_type": "code",
   "execution_count": 111,
   "metadata": {},
   "outputs": [],
   "source": [
    "y_pred = model.predict(X_test)"
   ]
  },
  {
   "cell_type": "code",
   "execution_count": 112,
   "metadata": {},
   "outputs": [],
   "source": [
    "y_pred = y_pred > 0.5"
   ]
  },
  {
   "cell_type": "code",
   "execution_count": 113,
   "metadata": {},
   "outputs": [
    {
     "data": {
      "text/plain": [
       "array([[ True],\n",
       "       [False],\n",
       "       [False],\n",
       "       [False],\n",
       "       [False]])"
      ]
     },
     "execution_count": 113,
     "metadata": {},
     "output_type": "execute_result"
    }
   ],
   "source": [
    "y_pred[:5]"
   ]
  },
  {
   "cell_type": "code",
   "execution_count": 115,
   "metadata": {},
   "outputs": [],
   "source": [
    "from sklearn.metrics import confusion_matrix\n",
    "import seaborn as sns"
   ]
  },
  {
   "cell_type": "code",
   "execution_count": 116,
   "metadata": {},
   "outputs": [],
   "source": [
    "cm = confusion_matrix(y_test, y_pred)"
   ]
  },
  {
   "cell_type": "code",
   "execution_count": 120,
   "metadata": {},
   "outputs": [
    {
     "data": {
      "text/plain": [
       "array([[1427,  168],\n",
       "       [ 178,  227]], dtype=int64)"
      ]
     },
     "execution_count": 120,
     "metadata": {},
     "output_type": "execute_result"
    }
   ],
   "source": [
    "cm"
   ]
  }
 ],
 "metadata": {
  "kernelspec": {
   "display_name": "Python 3",
   "language": "python",
   "name": "python3"
  },
  "language_info": {
   "codemirror_mode": {
    "name": "ipython",
    "version": 3
   },
   "file_extension": ".py",
   "mimetype": "text/x-python",
   "name": "python",
   "nbconvert_exporter": "python",
   "pygments_lexer": "ipython3",
   "version": "3.5.6"
  }
 },
 "nbformat": 4,
 "nbformat_minor": 2
}
